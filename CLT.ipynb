{
  "nbformat": 4,
  "nbformat_minor": 0,
  "metadata": {
    "colab": {
      "name": "CLT.ipynb",
      "provenance": []
    },
    "kernelspec": {
      "name": "python3",
      "display_name": "Python 3"
    },
    "language_info": {
      "name": "python"
    }
  },
  "cells": [
    {
      "cell_type": "markdown",
      "source": [
        "# Central Limits Theorem"
      ],
      "metadata": {
        "id": "pn_0NNUiiZlN"
      }
    },
    {
      "cell_type": "markdown",
      "source": [
        "\t#population mean which is (S) = mean (mean of s1, mean s2.. mean sn)"
      ],
      "metadata": {
        "id": "wgEjPZgoiZ1Z"
      }
    },
    {
      "cell_type": "markdown",
      "source": [
        "Population = 1,2,3,2,4,6,7,8,1,3,2,4,4,5,6,7,8,8,7,6\n",
        "\n",
        "Now we divide the population into samples\n",
        "\n",
        "(1,2,3,2), (4,6,7,8)\n",
        "(1,3,2,4), (4,5,6,7), (8, 8, 7,6)\n",
        "\n"
      ],
      "metadata": {
        "id": "7KvlOtuliipv"
      }
    },
    {
      "cell_type": "code",
      "source": [
        "import numpy as np\n"
      ],
      "metadata": {
        "id": "rzexoE2JjCzj"
      },
      "execution_count": null,
      "outputs": []
    },
    {
      "cell_type": "code",
      "source": [
        "s1=(1,2,3,2)\n",
        "s1"
      ],
      "metadata": {
        "colab": {
          "base_uri": "https://localhost:8080/"
        },
        "id": "PggTi-pjiqL_",
        "outputId": "cdc0f952-e43b-46f3-eb44-abab70021a20"
      },
      "execution_count": null,
      "outputs": [
        {
          "output_type": "execute_result",
          "data": {
            "text/plain": [
              "(1, 2, 3, 2)"
            ]
          },
          "metadata": {},
          "execution_count": 37
        }
      ]
    },
    {
      "cell_type": "code",
      "source": [
        "np.mean(s1)"
      ],
      "metadata": {
        "colab": {
          "base_uri": "https://localhost:8080/"
        },
        "id": "Kw3BuMoni7Z9",
        "outputId": "aeec8e9e-9523-4942-fb51-0793a13196e6"
      },
      "execution_count": null,
      "outputs": [
        {
          "output_type": "execute_result",
          "data": {
            "text/plain": [
              "2.0"
            ]
          },
          "metadata": {},
          "execution_count": 38
        }
      ]
    },
    {
      "cell_type": "code",
      "source": [
        "s2=(4,6,7,8)"
      ],
      "metadata": {
        "id": "Eiz8NUoAjH0m"
      },
      "execution_count": null,
      "outputs": []
    },
    {
      "cell_type": "code",
      "source": [
        "np.mean(s2)"
      ],
      "metadata": {
        "colab": {
          "base_uri": "https://localhost:8080/"
        },
        "id": "DTex60NgjH41",
        "outputId": "560504bc-916e-4720-9c38-2f7221b1898f"
      },
      "execution_count": null,
      "outputs": [
        {
          "output_type": "execute_result",
          "data": {
            "text/plain": [
              "6.25"
            ]
          },
          "metadata": {},
          "execution_count": 40
        }
      ]
    },
    {
      "cell_type": "code",
      "source": [
        "s3=(1,3,2,4)"
      ],
      "metadata": {
        "id": "RNqJYiaYjH9Q"
      },
      "execution_count": null,
      "outputs": []
    },
    {
      "cell_type": "code",
      "source": [
        "np.mean(s3)"
      ],
      "metadata": {
        "colab": {
          "base_uri": "https://localhost:8080/"
        },
        "id": "pxaFbnB1jUG4",
        "outputId": "f2277df1-2aed-4be9-e812-62cbacfd4bd4"
      },
      "execution_count": null,
      "outputs": [
        {
          "output_type": "execute_result",
          "data": {
            "text/plain": [
              "2.5"
            ]
          },
          "metadata": {},
          "execution_count": 42
        }
      ]
    },
    {
      "cell_type": "code",
      "source": [
        "s4=(4,5,6,7)"
      ],
      "metadata": {
        "id": "7BuszefDjUJ0"
      },
      "execution_count": null,
      "outputs": []
    },
    {
      "cell_type": "code",
      "source": [
        "np.mean(s4)"
      ],
      "metadata": {
        "colab": {
          "base_uri": "https://localhost:8080/"
        },
        "id": "FocYoVKmjUPg",
        "outputId": "c77ec06d-b674-46b4-8bed-2e5d5fd50a0f"
      },
      "execution_count": null,
      "outputs": [
        {
          "output_type": "execute_result",
          "data": {
            "text/plain": [
              "5.5"
            ]
          },
          "metadata": {},
          "execution_count": 44
        }
      ]
    },
    {
      "cell_type": "code",
      "source": [
        "s5=(8,8,7,6)"
      ],
      "metadata": {
        "id": "mJ8bCzy4jebR"
      },
      "execution_count": null,
      "outputs": []
    },
    {
      "cell_type": "code",
      "source": [
        "np.mean(s5)"
      ],
      "metadata": {
        "colab": {
          "base_uri": "https://localhost:8080/"
        },
        "id": "LqB8eFqfjeeQ",
        "outputId": "7693665a-143d-4896-913d-85f43d4d96a2"
      },
      "execution_count": null,
      "outputs": [
        {
          "output_type": "execute_result",
          "data": {
            "text/plain": [
              "7.25"
            ]
          },
          "metadata": {},
          "execution_count": 46
        }
      ]
    },
    {
      "cell_type": "markdown",
      "source": [
        "now we got means of each samples s1, s2, s3...\n",
        "next we need to find the mean of all the sample means\n",
        "\n",
        " mean (mean of s1, mean s2.. mean sn)"
      ],
      "metadata": {
        "id": "EWCT-KacjnAB"
      }
    },
    {
      "cell_type": "code",
      "source": [
        "a=(2.0, 6.25, 2.5, 5.5, 7.25)\n",
        "a"
      ],
      "metadata": {
        "colab": {
          "base_uri": "https://localhost:8080/"
        },
        "id": "jwsZ8a77j4rc",
        "outputId": "809deb57-3f05-4e50-c117-410277d8c658"
      },
      "execution_count": null,
      "outputs": [
        {
          "output_type": "execute_result",
          "data": {
            "text/plain": [
              "(2.0, 6.25, 2.5, 5.5, 7.25)"
            ]
          },
          "metadata": {},
          "execution_count": 47
        }
      ]
    },
    {
      "cell_type": "code",
      "source": [
        "np.mean(a)"
      ],
      "metadata": {
        "colab": {
          "base_uri": "https://localhost:8080/"
        },
        "id": "p-xjWGR6kRWM",
        "outputId": "dcb21017-7b72-4b0d-b062-7cd9e8c9efeb"
      },
      "execution_count": null,
      "outputs": [
        {
          "output_type": "execute_result",
          "data": {
            "text/plain": [
              "4.7"
            ]
          },
          "metadata": {},
          "execution_count": 48
        }
      ]
    },
    {
      "cell_type": "markdown",
      "source": [
        "Population mean"
      ],
      "metadata": {
        "id": "ZIuXoJ0mksQ6"
      }
    },
    {
      "cell_type": "code",
      "source": [
        "b=( 1,2,3,2,4,6,7,8,1,3,2,4,4,5,6,7,8,8,7,6)\n",
        "b"
      ],
      "metadata": {
        "colab": {
          "base_uri": "https://localhost:8080/"
        },
        "id": "mPXI28h9krwA",
        "outputId": "ab59f07c-d4b8-4338-aee5-3d272807adca"
      },
      "execution_count": null,
      "outputs": [
        {
          "output_type": "execute_result",
          "data": {
            "text/plain": [
              "(1, 2, 3, 2, 4, 6, 7, 8, 1, 3, 2, 4, 4, 5, 6, 7, 8, 8, 7, 6)"
            ]
          },
          "metadata": {},
          "execution_count": 49
        }
      ]
    },
    {
      "cell_type": "code",
      "source": [
        "np.mean(b)"
      ],
      "metadata": {
        "colab": {
          "base_uri": "https://localhost:8080/"
        },
        "id": "8qhaIH4gkxJo",
        "outputId": "6d44c8ff-193f-4efc-b12e-adc764735cfe"
      },
      "execution_count": null,
      "outputs": [
        {
          "output_type": "execute_result",
          "data": {
            "text/plain": [
              "4.7"
            ]
          },
          "metadata": {},
          "execution_count": 50
        }
      ]
    },
    {
      "cell_type": "markdown",
      "source": [
        "mean of a = mean of b \n",
        "\n",
        "### this is called central limits theorem(CLT) "
      ],
      "metadata": {
        "id": "7HWWmYXyk3Jm"
      }
    },
    {
      "cell_type": "markdown",
      "source": [
        "## Skewness"
      ],
      "metadata": {
        "id": "_7jyccU2vBLn"
      }
    },
    {
      "cell_type": "code",
      "source": [
        "b = [21,32,45,65,33,35,34,43,20,1,100,39,44,46]\n",
        "b"
      ],
      "metadata": {
        "colab": {
          "base_uri": "https://localhost:8080/"
        },
        "id": "bYXLbRVxvDKT",
        "outputId": "e5629c80-e99a-4ed7-f759-fc11977f02d7"
      },
      "execution_count": null,
      "outputs": [
        {
          "output_type": "execute_result",
          "data": {
            "text/plain": [
              "[21, 32, 45, 65, 33, 35, 34, 43, 20, 1, 100, 39, 44, 46]"
            ]
          },
          "metadata": {},
          "execution_count": 51
        }
      ]
    },
    {
      "cell_type": "code",
      "source": [
        "np.mean(b)"
      ],
      "metadata": {
        "colab": {
          "base_uri": "https://localhost:8080/"
        },
        "id": "fmKa_HVVvNls",
        "outputId": "ff02521d-d267-4ea6-bd78-a0aa08ea030e"
      },
      "execution_count": null,
      "outputs": [
        {
          "output_type": "execute_result",
          "data": {
            "text/plain": [
              "39.857142857142854"
            ]
          },
          "metadata": {},
          "execution_count": 52
        }
      ]
    },
    {
      "cell_type": "code",
      "source": [
        "np.median(b)"
      ],
      "metadata": {
        "colab": {
          "base_uri": "https://localhost:8080/"
        },
        "id": "YTINbhQ3vNr9",
        "outputId": "658c83e5-2840-4256-ccb6-95fa0097c47b"
      },
      "execution_count": null,
      "outputs": [
        {
          "output_type": "execute_result",
          "data": {
            "text/plain": [
              "37.0"
            ]
          },
          "metadata": {},
          "execution_count": 53
        }
      ]
    },
    {
      "cell_type": "markdown",
      "source": [
        "**Since here mean is Greater than median it is right skewness or positive skewness**"
      ],
      "metadata": {
        "id": "uBNTdlNkUDw9"
      }
    }
  ]
}